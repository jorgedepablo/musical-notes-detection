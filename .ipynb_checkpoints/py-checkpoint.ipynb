{
 "cells": [
  {
   "cell_type": "markdown",
   "metadata": {},
   "source": [
    "# Clasificación de Notas Musicales Mediante Umbrales\n",
    "\n",
    "### Jorge De Pablo Martínez | María Guadaño Nieto | Irene Rodríguez García \n"
   ]
  },
  {
   "cell_type": "markdown",
   "metadata": {},
   "source": [
    "## Introducción\n",
    "\n",
    "El objetivo de esta práctica es que ante una entrada (un fichero de audio con una nota aislada), te devuelva que nota es y a que octava pertenece.\n",
    "\n",
    "Para el funcionamiento de nuestra práctica se necesitan: \n",
    "* Fichero en formato .json que contiene las frecuencias fundamentales de las notas de la primera octava.\n",
    "* Módulos de de python tds_utils.py y thresholds.py. \n",
    "* Archivos de audio que usaremos para nuestra matriz test para comprobar el correcto funcionamiento.\n",
    "* Archivo de audio del que se quiere obtener la nota (entrada)."
   ]
  },
  {
   "cell_type": "code",
   "execution_count": 15,
   "metadata": {},
   "outputs": [
    {
     "name": "stdout",
     "output_type": "stream",
     "text": [
      "[{'Do': (25, 32.703), 'Re': (34.71, 36.708), 'Mi': (38.96, 41.203), 'Fa': (42.43, 43.654), 'Sol': (46.33, 48.999), 'La': (52.0, 55.0), 'Si': (58.37, 61.735)}, {'Do': (63.57, 65.406), 'Re': (69.41, 73.416), 'Mi': (77.91, 82.406), 'Fa': (84.86, 87.308), 'Sol': (92.65, 97.998), 'La': (104.0, 110.0), 'Si': (116.73, 123.47)}, {'Do': (127.14, 130.812), 'Re': (138.82, 146.832), 'Mi': (155.82, 164.812), 'Fa': (169.71, 174.616), 'Sol': (185.31, 195.996), 'La': (208.0, 220.0), 'Si': (233.47, 246.94)}, {'Do': (254.28, 261.624), 'Re': (277.64, 293.664), 'Mi': (311.64, 329.624), 'Fa': (339.43, 349.232), 'Sol': (370.61, 391.992), 'La': (416.0, 440.0), 'Si': (466.94, 493.88)}, {'Do': (508.56, 523.248), 'Re': (555.29, 587.328), 'Mi': (623.29, 659.248), 'Fa': (678.86, 698.464), 'Sol': (741.22, 783.984), 'La': (831.99, 880.0), 'Si': (933.88, 987.76)}]\n"
     ]
    }
   ],
   "source": [
    "%matplotlib notebook\n",
    "import numpy as np\n",
    "import scipy as sc\n",
    "import matplotlib.pyplot as plt\n",
    "import scipy.io.wavfile as wf\n",
    "\n",
    "import thresholds \n",
    "from tds_utils import my_spectra\n",
    "\n",
    "FILE = \"src/notes.json\"\n",
    "OCTAVES_NUM = 5\n",
    "TH_MIN = 25\n",
    "NOTES = ['Do', 'Re', 'Mi', 'Fa', 'Sol', 'La', 'Si']\n",
    "# Hay que estudiar la posibilidad de poder meter los sostenidos y bemoles, cuando funciones la primera versión \n",
    "\n",
    "thresholds = thresholds.get_thresholds(NOTES, FILE, OCTAVES_NUM, TH_MIN)\n",
    "\n",
    "# esto es una traza\n",
    "print(thresholds)"
   ]
  },
  {
   "cell_type": "code",
   "execution_count": null,
   "metadata": {},
   "outputs": [],
   "source": []
  }
 ],
 "metadata": {
  "kernelspec": {
   "display_name": "Python 3",
   "language": "python",
   "name": "python3"
  },
  "language_info": {
   "codemirror_mode": {
    "name": "ipython",
    "version": 3
   },
   "file_extension": ".py",
   "mimetype": "text/x-python",
   "name": "python",
   "nbconvert_exporter": "python",
   "pygments_lexer": "ipython3",
   "version": "3.6.9"
  }
 },
 "nbformat": 4,
 "nbformat_minor": 2
}
